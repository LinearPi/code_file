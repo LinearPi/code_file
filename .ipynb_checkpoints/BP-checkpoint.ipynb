{
 "cells": [
  {
   "cell_type": "markdown",
   "metadata": {},
   "source": [
    "## 梯度下降，BP传递"
   ]
  },
  {
   "cell_type": "markdown",
   "metadata": {},
   "source": [
    "导数常见有哪些：\n",
    "\n",
    "y=c(c为常数) y'=0\n",
    "y=x^n y'=nx^(n-1)\n",
    "y=a^x y'=a^xlna\n",
    "y=e^x y'=e^x\n",
    "y=logax y'=logae/x\n",
    "y=lnx y'=1/x\n",
    "y=sinx y'=cosx\n",
    "y=cosx y'=-sinx\n",
    "y=tanx y'=1/cos^2x\n",
    "y=cotx y'=-1/sin^2x\n",
    "y=arcsinx y'=1/√1-x^2\n",
    "y=arccosx y'=-1/√1-x^2\n",
    "y=arctanx y'=1/1+x^2\n",
    "y=arccotx y'=-1/1+x^2\n"
   ]
  }
 ],
 "metadata": {
  "kernelspec": {
   "display_name": "Python 3",
   "language": "python",
   "name": "python3"
  },
  "language_info": {
   "codemirror_mode": {
    "name": "ipython",
    "version": 3
   },
   "file_extension": ".py",
   "mimetype": "text/x-python",
   "name": "python",
   "nbconvert_exporter": "python",
   "pygments_lexer": "ipython3",
   "version": "3.6.6"
  }
 },
 "nbformat": 4,
 "nbformat_minor": 2
}
