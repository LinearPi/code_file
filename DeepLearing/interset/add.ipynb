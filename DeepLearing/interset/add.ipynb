{
 "cells": [
  {
   "cell_type": "code",
   "execution_count": 45,
   "metadata": {},
   "outputs": [],
   "source": [
    "import tensorflow as tf\n",
    "import numpy as np\n"
   ]
  },
  {
   "cell_type": "code",
   "execution_count": 112,
   "metadata": {},
   "outputs": [],
   "source": [
    "a = np.ones(shape=(2,3))"
   ]
  },
  {
   "cell_type": "code",
   "execution_count": 72,
   "metadata": {},
   "outputs": [],
   "source": [
    "b = np.ones(shape=(3, 4))"
   ]
  },
  {
   "cell_type": "code",
   "execution_count": 109,
   "metadata": {},
   "outputs": [],
   "source": [
    "di = np.array(range(0,10))"
   ]
  },
  {
   "cell_type": "code",
   "execution_count": 115,
   "metadata": {},
   "outputs": [],
   "source": [
    "e = np.array([[1,2,3],[4,5,6]])"
   ]
  },
  {
   "cell_type": "code",
   "execution_count": 74,
   "metadata": {},
   "outputs": [],
   "source": [
    "a_a = tf.Variable(a, name='a')\n",
    "b_b = tf.Variable(b, name='b')"
   ]
  },
  {
   "cell_type": "code",
   "execution_count": 79,
   "metadata": {},
   "outputs": [],
   "source": [
    "resout = tf.add_n([a,b])\n"
   ]
  },
  {
   "cell_type": "code",
   "execution_count": 99,
   "metadata": {},
   "outputs": [],
   "source": [
    "c = tf.constant([1.1,2.1,0.52,4.9], dtype=tf.float32)\n",
    "d = tf.constant([1.4,5.1,0.1,0.9], dtype=tf.float32)\n"
   ]
  },
  {
   "cell_type": "code",
   "execution_count": 95,
   "metadata": {},
   "outputs": [],
   "source": [
    "x = tf.ceil(c)"
   ]
  },
  {
   "cell_type": "code",
   "execution_count": 105,
   "metadata": {},
   "outputs": [],
   "source": [
    "sinc = tf.cos(c)"
   ]
  },
  {
   "cell_type": "code",
   "execution_count": 116,
   "metadata": {},
   "outputs": [],
   "source": [
    "init = tf.global_variables_initializer()\n"
   ]
  },
  {
   "cell_type": "code",
   "execution_count": 107,
   "metadata": {},
   "outputs": [
    {
     "name": "stdout",
     "output_type": "stream",
     "text": [
      "**********\n",
      "max:[1.4  5.1  0.52 4.9 ]\n",
      "**********\n",
      "cos:[ 0.45359612 -0.50484604  0.8678192   0.18651247]\n",
      "**********\n",
      "[2. 3. 1. 5.]\n",
      "**********\n",
      "[[2. 2. 2. 2.]\n",
      " [2. 2. 2. 2.]\n",
      " [2. 2. 2. 2.]]\n",
      "**********\n",
      "[[2. 2. 2. 2.]\n",
      " [2. 2. 2. 2.]\n",
      " [2. 2. 2. 2.]]\n"
     ]
    }
   ],
   "source": [
    "with tf.Session() as sess:\n",
    "    sess.run(init)\n",
    "    print('*'*10)\n",
    "    print('max:{}'.format(sess.run(tf.maximum(c,d))))\n",
    "    print('*'*10)\n",
    "    print('cos:{}'.format(sess.run(sinc)))\n",
    "    print('*'*10)\n",
    "    print(sess.run(x))\n",
    "    print('*'*10)\n",
    "    print(sess.run(a_a + b_b))\n",
    "    print('*'*10)\n",
    "    sess.run(resout)\n",
    "    print(sess.run(resout))"
   ]
  },
  {
   "cell_type": "code",
   "execution_count": 117,
   "metadata": {},
   "outputs": [
    {
     "name": "stdout",
     "output_type": "stream",
     "text": [
      "[[0 0 0 0 0 0 0 0 0 0]\n",
      " [0 1 0 0 0 0 0 0 0 0]\n",
      " [0 0 2 0 0 0 0 0 0 0]\n",
      " [0 0 0 3 0 0 0 0 0 0]\n",
      " [0 0 0 0 4 0 0 0 0 0]\n",
      " [0 0 0 0 0 5 0 0 0 0]\n",
      " [0 0 0 0 0 0 6 0 0 0]\n",
      " [0 0 0 0 0 0 0 7 0 0]\n",
      " [0 0 0 0 0 0 0 0 8 0]\n",
      " [0 0 0 0 0 0 0 0 0 9]]\n",
      "********************\n",
      "[[[[1. 0. 0.]\n",
      "   [0. 0. 0.]]\n",
      "\n",
      "  [[0. 1. 0.]\n",
      "   [0. 0. 0.]]\n",
      "\n",
      "  [[0. 0. 1.]\n",
      "   [0. 0. 0.]]]\n",
      "\n",
      "\n",
      " [[[0. 0. 0.]\n",
      "   [1. 0. 0.]]\n",
      "\n",
      "  [[0. 0. 0.]\n",
      "   [0. 1. 0.]]\n",
      "\n",
      "  [[0. 0. 0.]\n",
      "   [0. 0. 1.]]]]\n",
      "********************\n",
      "[[[[1 0 0]\n",
      "   [0 0 0]]\n",
      "\n",
      "  [[0 2 0]\n",
      "   [0 0 0]]\n",
      "\n",
      "  [[0 0 3]\n",
      "   [0 0 0]]]\n",
      "\n",
      "\n",
      " [[[0 0 0]\n",
      "   [4 0 0]]\n",
      "\n",
      "  [[0 0 0]\n",
      "   [0 5 0]]\n",
      "\n",
      "  [[0 0 0]\n",
      "   [0 0 6]]]]\n"
     ]
    }
   ],
   "source": [
    "\n",
    "with tf.Session() as sess:\n",
    "    print(sess.run(tf.diag(di)))\n",
    "    print('*'*20)\n",
    "    print(sess.run(tf.diag(a)))\n",
    "    print('*'*20)\n",
    "    print(sess.run(tf.diag(e)))"
   ]
  },
  {
   "cell_type": "code",
   "execution_count": 154,
   "metadata": {},
   "outputs": [],
   "source": [
    "e = np.array([[[1,2,3],[4,5,6],[7,8,9]],[[10,20,30],[40,50,60],[70,80,90]],[[11,21,31],[41,51,61],[71,81,91]]])"
   ]
  },
  {
   "cell_type": "code",
   "execution_count": 155,
   "metadata": {},
   "outputs": [
    {
     "data": {
      "text/plain": [
       "array([[[ 1,  2,  3],\n",
       "        [ 4,  5,  6],\n",
       "        [ 7,  8,  9]],\n",
       "\n",
       "       [[10, 20, 30],\n",
       "        [40, 50, 60],\n",
       "        [70, 80, 90]],\n",
       "\n",
       "       [[11, 21, 31],\n",
       "        [41, 51, 61],\n",
       "        [71, 81, 91]]])"
      ]
     },
     "execution_count": 155,
     "metadata": {},
     "output_type": "execute_result"
    }
   ],
   "source": [
    "e.shape\n",
    "e"
   ]
  },
  {
   "cell_type": "code",
   "execution_count": 156,
   "metadata": {},
   "outputs": [],
   "source": [
    "e_e = tf.Variable(e, name='e')"
   ]
  },
  {
   "cell_type": "code",
   "execution_count": 157,
   "metadata": {},
   "outputs": [],
   "source": [
    "init = tf.global_variables_initializer()"
   ]
  },
  {
   "cell_type": "code",
   "execution_count": 158,
   "metadata": {},
   "outputs": [
    {
     "name": "stdout",
     "output_type": "stream",
     "text": [
      "[[[ 1 10 11]\n",
      "  [ 4 40 41]\n",
      "  [ 7 70 71]]\n",
      "\n",
      " [[ 2 20 21]\n",
      "  [ 5 50 51]\n",
      "  [ 8 80 81]]\n",
      "\n",
      " [[ 3 30 31]\n",
      "  [ 6 60 61]\n",
      "  [ 9 90 91]]]\n"
     ]
    }
   ],
   "source": [
    "with tf.Session() as sess:\n",
    "    sess.run(init)\n",
    "    print(sess.run(tf.transpose(e_e)))"
   ]
  },
  {
   "cell_type": "code",
   "execution_count": null,
   "metadata": {},
   "outputs": [],
   "source": []
  },
  {
   "cell_type": "code",
   "execution_count": null,
   "metadata": {},
   "outputs": [],
   "source": []
  }
 ],
 "metadata": {
  "kernelspec": {
   "display_name": "Python [default]",
   "language": "python",
   "name": "python3"
  },
  "language_info": {
   "codemirror_mode": {
    "name": "ipython",
    "version": 3
   },
   "file_extension": ".py",
   "mimetype": "text/x-python",
   "name": "python",
   "nbconvert_exporter": "python",
   "pygments_lexer": "ipython3",
   "version": "3.6.5"
  }
 },
 "nbformat": 4,
 "nbformat_minor": 2
}
