{
 "cells": [
  {
   "cell_type": "code",
   "execution_count": 3,
   "metadata": {},
   "outputs": [],
   "source": [
    "import tensorflow as tf\n",
    "import numpy as np"
   ]
  },
  {
   "cell_type": "code",
   "execution_count": 4,
   "metadata": {},
   "outputs": [],
   "source": [
    "# 输入数据\n",
    "x_data = np.linspace(-1,1,300)[:, np.newaxis]\n",
    "noise = np.random.normal(0,0.05, x_data.shape)\n",
    "y_data = np.square(x_data)-0.5+noise"
   ]
  },
  {
   "cell_type": "code",
   "execution_count": 5,
   "metadata": {},
   "outputs": [],
   "source": [
    "# 输入层\n",
    "with tf.name_scope('input_layer'): #输入层。将这两个变量放到input_layer作用域下，tensorboard会把他们放在一个图形里面\n",
    "    xs = tf.placeholder(tf.float32, [None, 1], name = 'x_input') # xs起名x_input，会在图形上显示\n",
    "    ys = tf.placeholder(tf.float32, [None, 1], name = 'y_input') # ys起名y_input，会在图形上显示"
   ]
  },
  {
   "cell_type": "code",
   "execution_count": 6,
   "metadata": {},
   "outputs": [],
   "source": [
    "# 隐层\n",
    "with tf.name_scope('hidden_layer'): #隐层。将隐层权重、偏置、净输入放在一起\n",
    "    with tf.name_scope('weight'): #权重\n",
    "        W1 = tf.Variable(tf.random_normal([1,10]))\n",
    "        tf.summary.histogram('hidden_layer/weight', W1)\n",
    "    with tf.name_scope('bias'): #偏置\n",
    "        b1 = tf.Variable(tf.zeros([1,10])+0.1)\n",
    "        tf.summary.histogram('hidden_layer/bias', b1)\n",
    "    with tf.name_scope('Wx_plus_b'): #净输入\n",
    "        Wx_plus_b1 = tf.matmul(xs,W1) + b1\n",
    "        tf.summary.histogram('hidden_layer/Wx_plus_b',Wx_plus_b1)\n",
    "output1 = tf.nn.relu(Wx_plus_b1)"
   ]
  },
  {
   "cell_type": "code",
   "execution_count": null,
   "metadata": {},
   "outputs": [],
   "source": [
    "# 输出层\n",
    "with tf.name_scope('output_layer'): #输出层。将输出层权重、偏置、净输入放在一起\n",
    "    with tf.name_scope('weight'): #权重\n",
    "        W2 = tf.Variable(tf.random_normal([10,1]))\n",
    "        tf.summary.histogram('output_layer/weight', W2)\n",
    "    with tf.name_scope('bias'): #偏置\n",
    "        b2 = tf.Variable(tf.zeros([1,1])+0.1)\n",
    "        tf.summary.histogram('output_layer/bias', b2)\n",
    "    with tf.name_scope('Wx_plus_b'): #净输入\n",
    "        Wx_plus_b2 = tf.matmul(output1,W2) + b2\n",
    "        tf.summary.histogram('output_layer/Wx_plus_b',Wx_plus_b2)\n",
    "output2 = Wx_plus_b2"
   ]
  },
  {
   "cell_type": "code",
   "execution_count": null,
   "metadata": {},
   "outputs": [],
   "source": [
    "# 损失\n",
    "with tf.name_scope('loss'): #损失\n",
    "    loss = tf.reduce_mean(tf.reduce_sum(tf.square(ys-output2),reduction_indices=[1]))\n",
    "    tf.summary.scalar('loss',loss)\n",
    "with tf.name_scope('train'): #训练过程\n",
    "    train_step = tf.train.GradientDescentOptimizer(0.1).minimize(loss)"
   ]
  },
  {
   "cell_type": "code",
   "execution_count": null,
   "metadata": {},
   "outputs": [],
   "source": [
    "#初始化\n",
    "init = tf.global_variables_initializer()\n",
    "sess = tf.Session()\n",
    "sess.run(init)\n",
    "merged = tf.summary.merge_all() #将图形、训练过程等数据合并在一起\n",
    "writer = tf.summary.FileWriter('logs',sess.graph) #将训练日志写入到logs文件夹下\n"
   ]
  },
  {
   "cell_type": "code",
   "execution_count": null,
   "metadata": {},
   "outputs": [],
   "source": [
    "#训练\n",
    "for i in range(1000):\n",
    "    sess.run(train_step,feed_dict={xs:x_data,ys:y_data})\n",
    "    if(i%50==0): #每50次写一次日志\n",
    "        result = sess.run(merged,feed_dict={xs:x_data,ys:y_data}) #计算需要写入的日志数据\n",
    "        writer.add_summary(result,i) #将日志数据写入文件"
   ]
  },
  {
   "cell_type": "code",
   "execution_count": null,
   "metadata": {},
   "outputs": [],
   "source": []
  },
  {
   "cell_type": "code",
   "execution_count": null,
   "metadata": {},
   "outputs": [],
   "source": []
  }
 ],
 "metadata": {
  "kernelspec": {
   "display_name": "Python [default]",
   "language": "python",
   "name": "python3"
  },
  "language_info": {
   "codemirror_mode": {
    "name": "ipython",
    "version": 3
   },
   "file_extension": ".py",
   "mimetype": "text/x-python",
   "name": "python",
   "nbconvert_exporter": "python",
   "pygments_lexer": "ipython3",
   "version": "3.6.5"
  }
 },
 "nbformat": 4,
 "nbformat_minor": 2
}
