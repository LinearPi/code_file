{
 "cells": [
  {
   "cell_type": "code",
   "execution_count": 2,
   "metadata": {},
   "outputs": [
    {
     "name": "stdout",
     "output_type": "stream",
     "text": [
      "ok\n"
     ]
    }
   ],
   "source": [
    "import numpy\n",
    "from keras import backend as K\n",
    "from keras.datasets import mnist\n",
    "from keras.utils import np_utils\n",
    "print('ok')"
   ]
  },
  {
   "cell_type": "code",
   "execution_count": 3,
   "metadata": {},
   "outputs": [],
   "source": [
    "from keras.layers import Dense, Dropout, Flatten\n",
    "from keras.layers.convolutional import Conv2D, MaxPooling2D"
   ]
  },
  {
   "cell_type": "code",
   "execution_count": 4,
   "metadata": {},
   "outputs": [],
   "source": [
    "from keras.models import Sequential\n",
    "import pandas as pd \n",
    "from tensorflow.examples.tutorials.mnist import input_data"
   ]
  },
  {
   "cell_type": "code",
   "execution_count": 5,
   "metadata": {},
   "outputs": [],
   "source": [
    "model = Sequential()"
   ]
  },
  {
   "cell_type": "code",
   "execution_count": 6,
   "metadata": {},
   "outputs": [],
   "source": [
    "K.set_image_data_format('channels_last')\n",
    "numpy.random.seed(0)\n",
    "\n",
    "def load_data(path='../MNIST_data'):\n",
    "    mnist = input_data.read_data_sets('MNIST_data/', one_hot=True)\n",
    "    x_train = mnist.train.images\n",
    "    y_train = mnist.train.labels\n",
    "    x_test = mnist.test.images\n",
    "    y_test = mnist.test.labels\n",
    "    return (x_train, y_train),(x_test, y_test)\n"
   ]
  },
  {
   "cell_type": "code",
   "execution_count": 7,
   "metadata": {},
   "outputs": [
    {
     "name": "stdout",
     "output_type": "stream",
     "text": [
      "WARNING:tensorflow:From <ipython-input-6-390499c5070c>:5: read_data_sets (from tensorflow.contrib.learn.python.learn.datasets.mnist) is deprecated and will be removed in a future version.\n",
      "Instructions for updating:\n",
      "Please use alternatives such as official/mnist/dataset.py from tensorflow/models.\n",
      "WARNING:tensorflow:From D:\\Anaconda\\envs\\tensorflow\\lib\\site-packages\\tensorflow\\contrib\\learn\\python\\learn\\datasets\\mnist.py:260: maybe_download (from tensorflow.contrib.learn.python.learn.datasets.base) is deprecated and will be removed in a future version.\n",
      "Instructions for updating:\n",
      "Please write your own downloading logic.\n",
      "WARNING:tensorflow:From D:\\Anaconda\\envs\\tensorflow\\lib\\site-packages\\tensorflow\\contrib\\learn\\python\\learn\\datasets\\mnist.py:262: extract_images (from tensorflow.contrib.learn.python.learn.datasets.mnist) is deprecated and will be removed in a future version.\n",
      "Instructions for updating:\n",
      "Please use tf.data to implement this functionality.\n",
      "Extracting MNIST_data/train-images-idx3-ubyte.gz\n",
      "WARNING:tensorflow:From D:\\Anaconda\\envs\\tensorflow\\lib\\site-packages\\tensorflow\\contrib\\learn\\python\\learn\\datasets\\mnist.py:267: extract_labels (from tensorflow.contrib.learn.python.learn.datasets.mnist) is deprecated and will be removed in a future version.\n",
      "Instructions for updating:\n",
      "Please use tf.data to implement this functionality.\n",
      "Extracting MNIST_data/train-labels-idx1-ubyte.gz\n",
      "WARNING:tensorflow:From D:\\Anaconda\\envs\\tensorflow\\lib\\site-packages\\tensorflow\\contrib\\learn\\python\\learn\\datasets\\mnist.py:110: dense_to_one_hot (from tensorflow.contrib.learn.python.learn.datasets.mnist) is deprecated and will be removed in a future version.\n",
      "Instructions for updating:\n",
      "Please use tf.one_hot on tensors.\n",
      "Extracting MNIST_data/t10k-images-idx3-ubyte.gz\n",
      "Extracting MNIST_data/t10k-labels-idx1-ubyte.gz\n",
      "WARNING:tensorflow:From D:\\Anaconda\\envs\\tensorflow\\lib\\site-packages\\tensorflow\\contrib\\learn\\python\\learn\\datasets\\mnist.py:290: DataSet.__init__ (from tensorflow.contrib.learn.python.learn.datasets.mnist) is deprecated and will be removed in a future version.\n",
      "Instructions for updating:\n",
      "Please use alternatives such as official/mnist/dataset.py from tensorflow/models.\n"
     ]
    }
   ],
   "source": [
    "(X_train, y_train), (X_test, y_test) = load_data()\n",
    "trainning_set = pd.read_csv('train.csv')\n",
    "test_set = pd.read_csv('test.csv')"
   ]
  },
  {
   "cell_type": "code",
   "execution_count": 8,
   "metadata": {},
   "outputs": [
    {
     "name": "stdout",
     "output_type": "stream",
     "text": [
      "(55000, 10)\n"
     ]
    }
   ],
   "source": [
    "print(y_train.shape)"
   ]
  },
  {
   "cell_type": "code",
   "execution_count": 9,
   "metadata": {},
   "outputs": [],
   "source": [
    "X_train = X_train/255\n",
    "X_test2 = X_test/255\n"
   ]
  },
  {
   "cell_type": "code",
   "execution_count": 10,
   "metadata": {},
   "outputs": [],
   "source": [
    "# X_train = X_train.reshape(X_train.shape[0], 28, 28 ).astype('float32')"
   ]
  },
  {
   "cell_type": "code",
   "execution_count": 11,
   "metadata": {},
   "outputs": [
    {
     "name": "stdout",
     "output_type": "stream",
     "text": [
      "(784,)\n"
     ]
    }
   ],
   "source": [
    "print(X_train[1].shape)"
   ]
  },
  {
   "cell_type": "code",
   "execution_count": 12,
   "metadata": {},
   "outputs": [],
   "source": [
    "# import matplotlib.pyplot as plt\n",
    "\n",
    "# print(\"The number of training examples = %i\"%X_train.shape[0])\n",
    "# print(\"The number of calsses=%i\"%len(numpy.unique(y_train)))\n",
    "# print(\"Dimention of images={:d}\".format(X_train[1].shape[0]))\n",
    "\n",
    "# unique, count = numpy.unique(y_train, return_counts=True)\n",
    "# print(\"The number of occuranc of each class in the dataset = %s\"%dict(zip(unique,count)),\"\\n\")\n",
    "\n",
    "\n",
    "# image_and_labels = list(zip(X_train, y_train))\n",
    "# for index, (image, label) in enumerate(image_and_labels[:12]):\n",
    "#     plt.subplot(5,4,index+1)\n",
    "#     plt.axis(\"off\")\n",
    "#     plt.imshow(image, cmap=plt.cm.gray_r, interpolation=\"nearest\")\n",
    "#     plt.title(\"label:{}\".format(label))\n"
   ]
  },
  {
   "cell_type": "code",
   "execution_count": 13,
   "metadata": {},
   "outputs": [],
   "source": [
    "X_train = X_train.reshape(X_train.shape[0], 28, 28, 1).astype('float32')\n",
    "X_test = X_test.reshape(X_test.shape[0], 28, 28, 1).astype('float32')\n",
    "# y_train = np_utils.to_categorical(y_train)\n",
    "# y_test = np_utils.to_categorical(y_test)"
   ]
  },
  {
   "cell_type": "code",
   "execution_count": 14,
   "metadata": {},
   "outputs": [],
   "source": [
    "# 创建模型：\n",
    "from keras.layers import Dropout\n",
    "\n",
    "model.add(Conv2D(40, kernel_size=5, padding=\"same\", input_shape=(28, 28 ,1), activation='relu'))\n",
    "model.add(Conv2D(50, kernel_size=5, padding=\"valid\", activation='relu'))\n",
    "model.add(MaxPooling2D(pool_size=(2, 2), strides=(2, 2)))\n",
    "model.add(Dropout(0.2))\n",
    "          "
   ]
  },
  {
   "cell_type": "code",
   "execution_count": 15,
   "metadata": {},
   "outputs": [],
   "source": [
    "model.add(Conv2D(70, kernel_size=3, padding=\"same\", activation = 'relu'))\n",
    "model.add(MaxPooling2D(pool_size=(2, 2), strides=(2, 2)))\n",
    "model.add(Conv2D(100, kernel_size=3, padding=\"valid\", activation = 'relu'))\n",
    "model.add(MaxPooling2D(pool_size=(2, 2), strides=(2, 2)))"
   ]
  },
  {
   "cell_type": "code",
   "execution_count": 16,
   "metadata": {},
   "outputs": [],
   "source": [
    "from keras.layers.core import Activation\n",
    "\n",
    "model.add(Flatten())\n",
    "model.add(Dense(100))\n",
    "model.add(Activation(\"relu\"))\n",
    "model.add(Dropout(0.2))\n",
    "\n",
    "model.add(Dense(10))\n",
    "model.add(Activation(\"softmax\"))\n",
    "model.compile(loss='categorical_crossentropy', optimizer='adam', metrics=['accuracy'])"
   ]
  },
  {
   "cell_type": "code",
   "execution_count": 17,
   "metadata": {},
   "outputs": [
    {
     "name": "stdout",
     "output_type": "stream",
     "text": [
      "(55000, 10)\n"
     ]
    }
   ],
   "source": [
    "print(y_train.shape)"
   ]
  },
  {
   "cell_type": "code",
   "execution_count": null,
   "metadata": {
    "scrolled": true
   },
   "outputs": [
    {
     "name": "stdout",
     "output_type": "stream",
     "text": [
      "Train on 44000 samples, validate on 11000 samples\n",
      "Epoch 1/32\n",
      "44000/44000 [==============================] - 309s 7ms/step - loss: 1.4298 - acc: 0.4805 - val_loss: 0.3972 - val_acc: 0.8744\n",
      "Epoch 2/32\n",
      "44000/44000 [==============================] - 302s 7ms/step - loss: 0.3488 - acc: 0.8905 - val_loss: 0.1782 - val_acc: 0.9475\n",
      "Epoch 3/32\n",
      "44000/44000 [==============================] - 305s 7ms/step - loss: 0.2154 - acc: 0.9323 - val_loss: 0.1400 - val_acc: 0.9553\n",
      "Epoch 4/32\n",
      "44000/44000 [==============================] - 304s 7ms/step - loss: 0.1628 - acc: 0.9488 - val_loss: 0.1013 - val_acc: 0.9701\n",
      "Epoch 5/32\n",
      "44000/44000 [==============================] - 309s 7ms/step - loss: 0.1310 - acc: 0.9588 - val_loss: 0.0906 - val_acc: 0.9724\n",
      "Epoch 6/32\n",
      "44000/44000 [==============================] - 311s 7ms/step - loss: 0.1109 - acc: 0.9652 - val_loss: 0.0781 - val_acc: 0.9765\n",
      "Epoch 7/32\n",
      "44000/44000 [==============================] - 319s 7ms/step - loss: 0.0969 - acc: 0.9693 - val_loss: 0.0743 - val_acc: 0.9779\n",
      "Epoch 8/32\n",
      "44000/44000 [==============================] - 326s 7ms/step - loss: 0.0847 - acc: 0.9733 - val_loss: 0.0630 - val_acc: 0.9815\n",
      "Epoch 9/32\n",
      "44000/44000 [==============================] - 313s 7ms/step - loss: 0.0758 - acc: 0.9755 - val_loss: 0.0583 - val_acc: 0.9821\n",
      "Epoch 10/32\n",
      "44000/44000 [==============================] - 311s 7ms/step - loss: 0.0670 - acc: 0.9788 - val_loss: 0.0536 - val_acc: 0.9840\n",
      "Epoch 11/32\n",
      "44000/44000 [==============================] - 312s 7ms/step - loss: 0.0601 - acc: 0.9808 - val_loss: 0.0567 - val_acc: 0.9823\n",
      "Epoch 12/32\n",
      "44000/44000 [==============================] - 313s 7ms/step - loss: 0.0535 - acc: 0.9824 - val_loss: 0.0504 - val_acc: 0.9843\n",
      "Epoch 13/32\n",
      "44000/44000 [==============================] - 323s 7ms/step - loss: 0.0482 - acc: 0.9849 - val_loss: 0.0465 - val_acc: 0.9860\n",
      "Epoch 14/32\n",
      "44000/44000 [==============================] - 317s 7ms/step - loss: 0.0442 - acc: 0.9858 - val_loss: 0.0459 - val_acc: 0.9857\n",
      "Epoch 15/32\n",
      "44000/44000 [==============================] - 329s 7ms/step - loss: 0.0407 - acc: 0.9865 - val_loss: 0.0467 - val_acc: 0.9856\n",
      "Epoch 16/32\n",
      "44000/44000 [==============================] - 323s 7ms/step - loss: 0.0386 - acc: 0.9871 - val_loss: 0.0439 - val_acc: 0.9873\n",
      "Epoch 17/32\n",
      "44000/44000 [==============================] - 331s 8ms/step - loss: 0.0359 - acc: 0.9887 - val_loss: 0.0424 - val_acc: 0.9878\n",
      "Epoch 18/32\n",
      "44000/44000 [==============================] - 324s 7ms/step - loss: 0.0344 - acc: 0.9886 - val_loss: 0.0409 - val_acc: 0.9880\n",
      "Epoch 19/32\n",
      "44000/44000 [==============================] - 326s 7ms/step - loss: 0.0305 - acc: 0.9898 - val_loss: 0.0390 - val_acc: 0.9895\n",
      "Epoch 20/32\n",
      "44000/44000 [==============================] - 327s 7ms/step - loss: 0.0304 - acc: 0.9901 - val_loss: 0.0456 - val_acc: 0.9882\n",
      "Epoch 21/32\n",
      "44000/44000 [==============================] - 323s 7ms/step - loss: 0.0281 - acc: 0.9906 - val_loss: 0.0417 - val_acc: 0.9887\n",
      "Epoch 22/32\n",
      "44000/44000 [==============================] - 344s 8ms/step - loss: 0.0265 - acc: 0.9907 - val_loss: 0.0401 - val_acc: 0.9885\n",
      "Epoch 23/32\n",
      "21400/44000 [=============>................] - ETA: 2:58 - loss: 0.0251 - acc: 0.9915"
     ]
    }
   ],
   "source": [
    "model.compile(loss='categorical_crossentropy', optimizer='adam', metrics=['accuracy'])\n",
    "model.fit(X_train, y_train, epochs= 32 , batch_size=200, validation_split = 0.2)\n",
    "scores = model.evaluate(X_test, y_test, verbose = 10 )\n",
    "print (scores)"
   ]
  },
  {
   "cell_type": "code",
   "execution_count": null,
   "metadata": {},
   "outputs": [],
   "source": [
    "test_set = (test_set.values).reshape(test_set.shape[0], 28, 28 , 1).astype('float32')\n",
    "\n",
    "res = model.predict(test_set)\n",
    "res = numpy.argmax(res,axis = 1)\n",
    "res = pd.Series(res, name=\"Label\")\n",
    "submission = pd.concat([pd.Series(range(1 ,28001) ,name = \"ImageId\"),   res],axis = 1)\n",
    "submission.to_csv(\"cnn_mnist_datagen.csv\",index=False)\n",
    "submission.head(10)"
   ]
  },
  {
   "cell_type": "markdown",
   "metadata": {},
   "source": [
    "7-17提交的得分是0.985\n",
    " 今天再训练一遍，然后在考虑怎样把正确率提升上去。\n",
    "训练模型时很卡，基本上什么都用不了。\n",
    "观看的朋友有没有怎么把正确率提示到99.5%的\n",
    "又断了 \n",
    "错误信息：A connection to the notebook server could not be established. The notebook will continue trying to reconnect. Check your network connection or notebook server configuration."
   ]
  }
 ],
 "metadata": {
  "kernelspec": {
   "display_name": "Python [default]",
   "language": "python",
   "name": "python3"
  },
  "language_info": {
   "codemirror_mode": {
    "name": "ipython",
    "version": 3
   },
   "file_extension": ".py",
   "mimetype": "text/x-python",
   "name": "python",
   "nbconvert_exporter": "python",
   "pygments_lexer": "ipython3",
   "version": "3.6.5"
  }
 },
 "nbformat": 4,
 "nbformat_minor": 2
}
