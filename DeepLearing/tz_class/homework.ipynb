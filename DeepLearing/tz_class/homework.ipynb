{
 "cells": [
  {
   "cell_type": "code",
   "execution_count": 1,
   "metadata": {},
   "outputs": [
    {
     "name": "stderr",
     "output_type": "stream",
     "text": [
      "D:\\Anaconda\\envs\\tensorflow\\lib\\site-packages\\h5py\\__init__.py:36: FutureWarning: Conversion of the second argument of issubdtype from `float` to `np.floating` is deprecated. In future, it will be treated as `np.float64 == np.dtype(float).type`.\n",
      "  from ._conv import register_converters as _register_converters\n"
     ]
    }
   ],
   "source": [
    "import numpy as np\n",
    "import matplotlib.pyplot as plt\n",
    "import tensorflow as tf"
   ]
  },
  {
   "cell_type": "code",
   "execution_count": 2,
   "metadata": {},
   "outputs": [],
   "source": [
    "a = np.array([[0.5, 8], [1.5, 6],[3, 5], [4, 2],[5, 0.5]], dtype=np.float32)"
   ]
  },
  {
   "cell_type": "code",
   "execution_count": 3,
   "metadata": {},
   "outputs": [
    {
     "data": {
      "text/plain": [
       "array([[0.5, 8. ],\n",
       "       [1.5, 6. ],\n",
       "       [3. , 5. ],\n",
       "       [4. , 2. ],\n",
       "       [5. , 0.5]], dtype=float32)"
      ]
     },
     "execution_count": 3,
     "metadata": {},
     "output_type": "execute_result"
    }
   ],
   "source": [
    "a.shape\n",
    "a"
   ]
  },
  {
   "cell_type": "code",
   "execution_count": 4,
   "metadata": {},
   "outputs": [
    {
     "data": {
      "text/plain": [
       "array([[0.5, 1.5, 3. , 4. , 5. ],\n",
       "       [8. , 6. , 5. , 2. , 0.5]], dtype=float32)"
      ]
     },
     "execution_count": 4,
     "metadata": {},
     "output_type": "execute_result"
    }
   ],
   "source": [
    "a.T"
   ]
  },
  {
   "cell_type": "code",
   "execution_count": 5,
   "metadata": {},
   "outputs": [
    {
     "data": {
      "text/plain": [
       "<matplotlib.collections.PathCollection at 0xd016da0>"
      ]
     },
     "execution_count": 5,
     "metadata": {},
     "output_type": "execute_result"
    },
    {
     "data": {
      "image/png": "[encoded data removed]",
      "text/plain": [
       "<Figure size 432x288 with 1 Axes>"
      ]
     },
     "metadata": {},
     "output_type": "display_data"
    }
   ],
   "source": [
    "plt.scatter(a[:,1],a[:,0])"
   ]
  },
  {
   "cell_type": "code",
   "execution_count": 6,
   "metadata": {},
   "outputs": [
    {
     "data": {
      "text/plain": [
       "dtype('float32')"
      ]
     },
     "execution_count": 6,
     "metadata": {},
     "output_type": "execute_result"
    }
   ],
   "source": [
    "a.dtype"
   ]
  },
  {
   "cell_type": "code",
   "execution_count": 7,
   "metadata": {},
   "outputs": [],
   "source": [
    "# w = tf.Variable(1, tf.float32)\n",
    "# b = tf.Variable(1, tf.float32)\n",
    "# y_pres = tf.add(tf.matmul(a.T[0][0], w) + b)"
   ]
  },
  {
   "cell_type": "code",
   "execution_count": 13,
   "metadata": {},
   "outputs": [
    {
     "name": "stdout",
     "output_type": "stream",
     "text": [
      " w= [[-1.5635543]] \n",
      " \n",
      " b= [8.665327] \n",
      "\n"
     ]
    }
   ],
   "source": [
    "import numpy as np\n",
    "def weightsUpdate(data,w,b,learning_rate=0.02):\n",
    "    for x0,y0 in data:\n",
    "        y = np.dot(x0,w) + b\n",
    "        w_gradient = (y - y0) * x0.T#求w的梯度\n",
    "        b_gradient = (y - y0)[0];#求b的梯度；取标量\n",
    "        w -= w_gradient*learning_rate#权值更新\n",
    "        b -= b_gradient\n",
    "        loss = 0.5*np.square(y-y0)\n",
    "    return [w,b,loss] \n",
    "\n",
    "# y=2x+1\n",
    "w=np.array([[2]],dtype=np.float32)\n",
    "b=np.array([1], dtype=np.float32)\n",
    " \n",
    "data=np.array([[0.5, 8], [1.5, 6],[3, 5], [4, 2],[5, 0.5]], dtype=np.float32)\n",
    "for i in range(500):    \n",
    "    weightsUpdate(data, w, b)\n",
    "print(\" w=\", w,'\\n','\\n',\"b=\", b, '\\n')"
   ]
  },
  {
   "cell_type": "code",
   "execution_count": 14,
   "metadata": {},
   "outputs": [
    {
     "name": "stdout",
     "output_type": "stream",
     "text": [
      "[[-1.5635543]]\n"
     ]
    },
    {
     "data": {
      "text/plain": [
       "array([8.665327], dtype=float32)"
      ]
     },
     "execution_count": 14,
     "metadata": {},
     "output_type": "execute_result"
    }
   ],
   "source": [
    "print(w)\n",
    "b"
   ]
  },
  {
   "cell_type": "code",
   "execution_count": null,
   "metadata": {},
   "outputs": [],
   "source": []
  }
 ],
 "metadata": {
  "kernelspec": {
   "display_name": "Python [default]",
   "language": "python",
   "name": "python3"
  },
  "language_info": {
   "codemirror_mode": {
    "name": "ipython",
    "version": 3
   },
   "file_extension": ".py",
   "mimetype": "text/x-python",
   "name": "python",
   "nbconvert_exporter": "python",
   "pygments_lexer": "ipython3",
   "version": "3.6.5"
  }
 },
 "nbformat": 4,
 "nbformat_minor": 2
}
