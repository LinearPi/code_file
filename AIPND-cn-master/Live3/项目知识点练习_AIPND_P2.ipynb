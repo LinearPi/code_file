{
 "cells": [
  {
   "cell_type": "markdown",
   "metadata": {},
   "source": [
    "# 人工智能编程基础纳米学位\n",
    "## 项目知识点练习册\n",
    "### 项目：(P2)"
   ]
  },
  {
   "cell_type": "markdown",
   "metadata": {},
   "source": [
    "在这个notebook文件中，我们设计了多项练习题来帮助你为之后的实战项目作准备，并希望可以通过编程练习来帮助你更好地掌握前几周内所学习的内容！ ​\n",
    "\n",
    "有些模板代码已经提供给你，但你还需要实现更多的功能来完成这个练习。除非有明确要求，你无须修改任何已给出的代码。每一个练习都配有详细的指导，需要实现的部分也会在注释中以'TODO'标出。 ​\n",
    "\n",
    "除了实现代码外，你还需要回答一些与项目及代码相关的问题。每个需要回答的问题都会以 '问题 X' 标记。请仔细阅读每个问题，并且在问题后的 '回答' 部分写出完整的答案。助教将根据 你对问题的回答 和 撰写代码实现的功能 来对你提交的练习进行评分。 ​\n",
    "\n"
   ]
  },
  {
   "cell_type": "markdown",
   "metadata": {},
   "source": [
    "> 提示：Code 和 Markdown 区域可通过 Shift + Enter 快捷键运行。此外，Markdown可以通过双击进入编辑模式。"
   ]
  },
  {
   "cell_type": "markdown",
   "metadata": {},
   "source": [
    "### TASK 1 : Numpy\n",
    "#### 1.问答题\n",
    "问题：\n",
    "Numpy第三方库的主要作用是什么？它是一个开源的库还是非开源的库？主要支持什么运算？"
   ]
  },
  {
   "cell_type": "markdown",
   "metadata": {},
   "source": [
    "回答："
   ]
  },
  {
   "cell_type": "markdown",
   "metadata": {},
   "source": [
    "### 2.练习题\n",
    "练习题1：使用numpy创建一个2x3的数组,并用0进行填充"
   ]
  },
  {
   "cell_type": "code",
   "execution_count": 8,
   "metadata": {},
   "outputs": [],
   "source": [
    "import numpy as np"
   ]
  },
  {
   "cell_type": "code",
   "execution_count": null,
   "metadata": {},
   "outputs": [],
   "source": [
    "### 完成练习题1\n",
    "matrix1 = #TODU"
   ]
  },
  {
   "cell_type": "markdown",
   "metadata": {},
   "source": [
    "练习题2:利用reshape函数，将array变形为3x3的矩阵"
   ]
  },
  {
   "cell_type": "code",
   "execution_count": 12,
   "metadata": {},
   "outputs": [],
   "source": [
    "### 完成练习题2\n",
    "Z = np.arange(9)\n",
    "matrix2 = #TODU"
   ]
  },
  {
   "cell_type": "markdown",
   "metadata": {},
   "source": [
    "练习题3:使用random模块的rando函数，生成随机数，构建一个3x3的矩阵"
   ]
  },
  {
   "cell_type": "code",
   "execution_count": null,
   "metadata": {},
   "outputs": [],
   "source": [
    "### 完成练习题3\n",
    "matrix2 = #TODU"
   ]
  },
  {
   "cell_type": "markdown",
   "metadata": {},
   "source": [
    "练习题4：寻找一个10x10矩阵中的最小值和最大值"
   ]
  },
  {
   "cell_type": "code",
   "execution_count": null,
   "metadata": {},
   "outputs": [],
   "source": [
    "Z = np.random.random((10,10))\n",
    "zmin = #TODU\n",
    "zmax = #TODU"
   ]
  },
  {
   "cell_type": "markdown",
   "metadata": {},
   "source": [
    "### TASK 2 : Pandas"
   ]
  },
  {
   "cell_type": "markdown",
   "metadata": {},
   "source": [
    "#### 1.问答题\n",
    "问题：Pandas第三方库的主要作用是什么？Pandas Series 和 DataFrame的区别是什么？"
   ]
  },
  {
   "cell_type": "markdown",
   "metadata": {},
   "source": [
    "回答："
   ]
  },
  {
   "cell_type": "markdown",
   "metadata": {},
   "source": [
    "#### 2.练习题"
   ]
  },
  {
   "cell_type": "code",
   "execution_count": 2,
   "metadata": {},
   "outputs": [],
   "source": [
    "import pandas as pd"
   ]
  },
  {
   "cell_type": "markdown",
   "metadata": {},
   "source": [
    "练习题1:使用pandas的series方法，构建如下索引：\n",
    "> car1 :      15\n",
    "\n",
    "> car2 :    44\n",
    "\n",
    "> car3  :   0\n",
    "\n",
    "> car4  :   71\n",
    "\n",
    "> dtype: object"
   ]
  },
  {
   "cell_type": "code",
   "execution_count": null,
   "metadata": {},
   "outputs": [],
   "source": [
    "obj1 = #TODU"
   ]
  },
  {
   "cell_type": "markdown",
   "metadata": {},
   "source": [
    "练习题2:指定索引输出。输出obj2中'a'对应的值"
   ]
  },
  {
   "cell_type": "code",
   "execution_count": null,
   "metadata": {},
   "outputs": [],
   "source": [
    "obj2 = obj2=pd.Series([1,2,3,4,5],index=['a','b','c','d','e'])\n",
    "print #TODU"
   ]
  },
  {
   "cell_type": "markdown",
   "metadata": {},
   "source": [
    "练习题3:使用数字行为obj3创建索引"
   ]
  },
  {
   "cell_type": "code",
   "execution_count": null,
   "metadata": {},
   "outputs": [],
   "source": [
    "obj3 = {'Bob' : pd.Series([245, 25, 55]),\n",
    "        'Alice' : pd.Series([40, 110, 500, 45])}\n",
    "df = #TODU"
   ]
  },
  {
   "cell_type": "markdown",
   "metadata": {},
   "source": [
    "练习题4:使用append方法添加行数据"
   ]
  },
  {
   "cell_type": "code",
   "execution_count": 16,
   "metadata": {},
   "outputs": [],
   "source": [
    "items = {'Bob' : pd.Series(data = [245, 25, 55], index = ['bike', 'pants', 'watch']),\n",
    "         'Alice' : pd.Series(data = [40, 110, 500, 45], index = ['book', 'glasses', 'bike', 'pants'])}\n",
    "obj4 = pd.DataFrame(items)\n",
    "new_data = pd.DataFrame([{'Bob':15,'Alice':40}], index = ['computers'])\n",
    "obj5 = #TODU"
   ]
  },
  {
   "cell_type": "markdown",
   "metadata": {},
   "source": [
    "### TASK 3 : Matplotlib 与 Seaborn"
   ]
  },
  {
   "cell_type": "markdown",
   "metadata": {},
   "source": [
    "#### 1.问答题\n",
    "问题：Matplotlib第三方库的主要作用是什么？Seaborn第三方库的主要作用是什么？二者有什么区别与联系？"
   ]
  },
  {
   "cell_type": "markdown",
   "metadata": {},
   "source": [
    "回答："
   ]
  },
  {
   "cell_type": "markdown",
   "metadata": {},
   "source": [
    "#### 2.练习题"
   ]
  },
  {
   "cell_type": "code",
   "execution_count": 20,
   "metadata": {},
   "outputs": [],
   "source": [
    "from matplotlib import pyplot"
   ]
  },
  {
   "cell_type": "markdown",
   "metadata": {},
   "source": [
    "练习题1:设置横坐标名、纵坐标名，表格名称，并画出图形"
   ]
  },
  {
   "cell_type": "code",
   "execution_count": 26,
   "metadata": {},
   "outputs": [],
   "source": [
    "from numpy import linspace, power, sin, negative, exp\n",
    "from matplotlib import pyplot\n",
    " \n",
    "x = linspace(0, 2, 100)\n",
    "y = power(sin(x - 2), 2) * exp(negative(power(x, 2)))\n",
    "\n",
    "### TODO 1 绘图\n",
    "\n",
    "\n",
    "### TODO 2 设置纵坐标名称为‘价格’\n",
    "\n",
    "### TODO 2 设置横坐标名称为‘数量’\n",
    "\n",
    "### TODO 3 设置标题名称为公式1（下方已给出）\n",
    "\n",
    "### TODO 4 利用show方法展示图像\n"
   ]
  },
  {
   "cell_type": "markdown",
   "metadata": {},
   "source": [
    "公式1:   y = $[sin^2(x-2)]e^{-x^2}$"
   ]
  },
  {
   "cell_type": "markdown",
   "metadata": {},
   "source": [
    "练习题2：直方图的绘制"
   ]
  },
  {
   "cell_type": "code",
   "execution_count": null,
   "metadata": {},
   "outputs": [],
   "source": [
    "import numpy as np  \n",
    "from scipy import stats  \n",
    "import matplotlib.mlab as mlab  \n",
    "import matplotlib.pyplot as plt  \n",
    "  \n",
    "z = 100+10*np.random.randn(10000)   \n",
    "plt.hist(z, 50, normed=1, facecolor='green', alpha=0.35) \n",
    "  \n",
    "### TODO 设置纵坐标名字为Probability，横坐标的名字叫'x'，表格的名称叫histogram\n",
    "  \n",
    "\n",
    "### TODO  标尺变换：将横坐标的范围设置为60～140，将纵坐标的范围设置为0～0.05\n",
    "\n",
    "\n",
    "### TODO 设置网格线\n",
    "\n",
    " \n",
    "### TODU 高斯核密度估计\n",
    "\n",
    "\n",
    "xs = np.linspace(60, 140)  \n",
    "plt.plot(xs, kernel(xs))  \n",
    "\n",
    "plt.show()"
   ]
  },
  {
   "cell_type": "markdown",
   "metadata": {},
   "source": [
    "练习题3:饼图的绘制"
   ]
  },
  {
   "cell_type": "code",
   "execution_count": null,
   "metadata": {},
   "outputs": [],
   "source": [
    "import numpy as np\n",
    "import matplotlib.pyplot as plt\n",
    " \n",
    "labels = 'A', 'B', 'C', 'D'\n",
    "fracs = [15, 30.55, 44.44, 10]\n",
    "\n",
    "### TODO 使用explode方法，凸出‘B’部分数据\n",
    "explode = [0, 0.1, 0, 0] \n",
    "\n",
    "### TODO 使用plt.axes 方法，将饼图设置为圆形\n",
    "plt.axes(aspect=1)  \n",
    "\n",
    "### 绘制图形，设置图表中小数位为为2位，整数有1位的浮点数；饼图有阴影，起始角度位90度；百分比text到圆心的距离位06\n",
    "\n"
   ]
  },
  {
   "cell_type": "markdown",
   "metadata": {},
   "source": [
    "练习题4:箱形图绘制"
   ]
  },
  {
   "cell_type": "code",
   "execution_count": null,
   "metadata": {},
   "outputs": [],
   "source": [
    "import numpy as np\n",
    "import matplotlib.pyplot as plt\n",
    "import pandas as pd\n",
    "\n",
    "### 设置随机种子\n",
    "np.random.seed(5) \n",
    "\n",
    "### TUDO 创建横坐标的labels分别为car1，car2，car3，car4\n",
    "\n",
    "labels = ['A', 'B', 'C', 'D']\n",
    "data = np.random.rand(5,4)\n",
    "\n",
    "### TODO 设置箱形图，数据为data，columns为labels\n",
    "                  \n",
    "### TODO 使用boxplot绘制箱形图\n",
    "\n",
    "plt.show()"
   ]
  },
  {
   "cell_type": "code",
   "execution_count": null,
   "metadata": {},
   "outputs": [],
   "source": []
  },
  {
   "cell_type": "code",
   "execution_count": null,
   "metadata": {},
   "outputs": [],
   "source": []
  },
  {
   "cell_type": "code",
   "execution_count": null,
   "metadata": {},
   "outputs": [],
   "source": []
  }
 ],
 "metadata": {
  "kernelspec": {
   "display_name": "Python 3",
   "language": "python",
   "name": "python3"
  },
  "language_info": {
   "codemirror_mode": {
    "name": "ipython",
    "version": 3
   },
   "file_extension": ".py",
   "mimetype": "text/x-python",
   "name": "python",
   "nbconvert_exporter": "python",
   "pygments_lexer": "ipython3",
   "version": "3.6.4"
  }
 },
 "nbformat": 4,
 "nbformat_minor": 2
}
